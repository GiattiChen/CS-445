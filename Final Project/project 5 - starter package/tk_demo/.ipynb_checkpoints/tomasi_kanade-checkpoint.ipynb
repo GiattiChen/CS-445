{
 "cells": [
  {
   "cell_type": "markdown",
   "metadata": {},
   "source": [
    "# Final Project : 3D reconstruction with multi-images"
   ]
  },
  {
   "cell_type": "markdown",
   "metadata": {},
   "source": [
    "## CS445: Computational Photography - Fall 2019"
   ]
  },
  {
   "cell_type": "code",
   "execution_count": 1,
   "metadata": {
    "collapsed": true
   },
   "outputs": [],
   "source": [
    "import numpy as np\n",
    "import scipy\n",
    "def sym_params(i,j):\n",
    "    \"\"\" params of Q for iQQTj\"\"\"\n",
    "    o=np.outer(i,j)\n",
    "    o=o+o.T-np.diag(o.diagonal())\n",
    "    return o[np.triu_indices(3)]\n",
    "def tomasi_kanade(W0):\n",
    "    \"\"\" Tomasi–Kanade factorization\n",
    "        input:\n",
    "        W0 - coordinates of shape (Frames,Points,2)\n",
    "        output:\n",
    "        R - (2*Frames,3)\n",
    "        S - (3,Points)\n",
    "        \"\"\"\n",
    "    F,P,_=W0.shape\n",
    "    # (2F,P) 2F stack Xs and Ys\n",
    "    W=W0.transpose(2,0,1).reshape(F*2,P).astype(np.float64)\n",
    "    # normalize to centroid\n",
    "    W-=W.mean(axis=1,keepdims=True)\n",
    "    # svd, (2F,P), (,P), (P,P)\n",
    "    # svd 2F<P, (2F,2F), (,2F), (2F,P)\n",
    "    u, s, vh =np.linalg.svd(W,full_matrices=True)\n",
    "    # (2F,3),(3,P)\n",
    "    R_hat=u[:,:3]*(s[:3]**0.5)\n",
    "    S_hat=((s[:3]**0.5)*vh[:3,:].T).T\n",
    "    # (F,3) (F,3)\n",
    "    I,J=R_hat[:F,:],R_hat[F:,:]\n",
    "    # solve Q*QT, symmetric, 6 params\n",
    "    # iTQi=1 jTQj=1 iTQj=0 R=[i,j,k]T\n",
    "    A=np.zeros([3*F,6])\n",
    "    A[:F,:]=np.array([sym_params(I[i],I[i]) for i in range(len(I))])\n",
    "    A[F:2*F,:]=np.array([sym_params(J[i],J[i]) for i in range(len(I))])\n",
    "    A[2*F:,:]=np.array([sym_params(I[i],J[i]) for i in range(len(I))])\n",
    "    # ii,jj are 1, ij are 0\n",
    "    b=np.ones([3*F])\n",
    "    b[2*F:]=0\n",
    "    # solve QQT\n",
    "    qsym=np.linalg.lstsq(A,b)[0]\n",
    "    # get symmetric mat\n",
    "    QSym=np.zeros([3,3])\n",
    "    QSym[np.triu_indices(3)]=qsym\n",
    "    QSym[np.tril_indices(3,k=-1)]=QSym[np.triu_indices(3,k=1)]\n",
    "    try:\n",
    "        Q=np.linalg.cholesky(QSym).T\n",
    "    except:\n",
    "        print(\"Bad Data\")\n",
    "        return None,None\n",
    "    # get R,S\n",
    "    R=R_hat.dot(Q)\n",
    "    S=np.linalg.inv(Q).dot(S_hat)\n",
    "    return R,S"
   ]
  },
  {
   "cell_type": "code",
   "execution_count": 2,
   "metadata": {
    "collapsed": true
   },
   "outputs": [],
   "source": [
    "def removeNaN(a):\n",
    "    b=[]\n",
    "    for i in range(a.shape[0]):\n",
    "        if (a[i].max()>-1e10):\n",
    "            b.append(a[i])\n",
    "    return np.array(b)"
   ]
  },
  {
   "cell_type": "code",
   "execution_count": 7,
   "metadata": {},
   "outputs": [
    {
     "name": "stdout",
     "output_type": "stream",
     "text": [
      "(51, 491, 2)\n"
     ]
    }
   ],
   "source": [
    "import scipy.io\n",
    "matdata=scipy.io.loadmat(\"tracked_points\")\n",
    "Xs=matdata['Xs']\n",
    "Ys=matdata['Ys']\n",
    "Wmat=removeNaN(np.stack((Xs,Ys)).transpose([2,1,0])).transpose([1,0,2])\n",
    "print(Wmat.shape)"
   ]
  },
  {
   "cell_type": "code",
   "execution_count": 5,
   "metadata": {},
   "outputs": [
    {
     "name": "stderr",
     "output_type": "stream",
     "text": [
      "C:\\Users\\anban\\Anaconda3\\envs\\tfenv\\lib\\site-packages\\ipykernel_launcher.py:39: FutureWarning: `rcond` parameter will change to the default of machine precision times ``max(M, N)`` where M and N are the input matrix dimensions.\n",
      "To use the future default and silence this warning we advise to pass `rcond=None`, to keep using the old, explicitly pass `rcond=-1`.\n"
     ]
    }
   ],
   "source": [
    "R,S=tomasi_kanade(Wmat)"
   ]
  },
  {
   "cell_type": "code",
   "execution_count": 6,
   "metadata": {},
   "outputs": [
    {
     "name": "stderr",
     "output_type": "stream",
     "text": [
      "C:\\Users\\anban\\Anaconda3\\envs\\tfenv\\lib\\site-packages\\plotly\\offline\\offline.py:562: UserWarning:\n",
      "\n",
      "Your filename `3d-axis-range` didn't end with .html. Adding .html to the end of your file.\n",
      "\n"
     ]
    },
    {
     "data": {
      "text/plain": [
       "'3d-axis-range.html'"
      ]
     },
     "execution_count": 6,
     "metadata": {},
     "output_type": "execute_result"
    }
   ],
   "source": [
    "from plotly.offline import plot\n",
    "import chart_studio.plotly as py\n",
    "import plotly.graph_objs as go\n",
    "import numpy as np\n",
    "tripoints3d=S # (3,P)\n",
    "fig = go.Figure(data=[go.Scatter3d(x=tripoints3d[0],\n",
    "                                   y=tripoints3d[1],\n",
    "                                   z=tripoints3d[2],\n",
    "                                   mode='markers')])\n",
    "plot(fig, filename='3d-axis-range')"
   ]
  },
  {
   "cell_type": "code",
   "execution_count": null,
   "metadata": {
    "collapsed": true
   },
   "outputs": [],
   "source": []
  }
 ],
 "metadata": {
  "kernelspec": {
   "display_name": "Python 3",
   "language": "python",
   "name": "python3"
  },
  "language_info": {
   "codemirror_mode": {
    "name": "ipython",
    "version": 3
   },
   "file_extension": ".py",
   "mimetype": "text/x-python",
   "name": "python",
   "nbconvert_exporter": "python",
   "pygments_lexer": "ipython3",
   "version": "3.6.2"
  }
 },
 "nbformat": 4,
 "nbformat_minor": 4
}
